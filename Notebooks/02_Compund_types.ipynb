{
 "cells": [
  {
   "cell_type": "markdown",
   "metadata": {},
   "source": [
    "# Python compound types\n",
    "\n",
    "Python also comes with [built-in types](https://docs.python.org/3/library/stdtypes.html) for groups of objects. These are the ones that will be mentioned in this tutorial:\n",
    "\n",
    " * list\n",
    " * tuple\n",
    " * set\n",
    " * dict\n",
    " \n",
    "Any of the above types can hold several other objects, which do not need to be of the same type (e.g. a list can hold an integer on its first position, and a string in the second position). Let's have a deeper look at them:"
   ]
  },
  {
   "cell_type": "markdown",
   "metadata": {},
   "source": [
    "## Sequence types: lists and tuples\n",
    "\n",
    "A sequence is an **ordered group of objects**. As the elements of the list keep the order, they are accessible by index. It is also possible to retrieve the length of the sequence (the number of elements that it contains), as well as checking if elements are present in it."
   ]
  },
  {
   "cell_type": "code",
   "execution_count": 71,
   "metadata": {},
   "outputs": [
    {
     "name": "stdout",
     "output_type": "stream",
     "text": [
      "This is an empty list: [] <class 'list'>\n",
      "This is an empty tuple: () <class 'tuple'>\n",
      "my_list: [1, 2, 3]\n",
      "Is 1 in my_list? True\n",
      "Isn't 3 in my list? False\n",
      "length of my_list: 3\n"
     ]
    }
   ],
   "source": [
    "print(\"This is an empty list:\" , [], type([]))\n",
    "print(\"This is an empty tuple:\", (), type(()))\n",
    "my_list = [1, 2, 3]\n",
    "print(\"my_list:\", my_list)\n",
    "print(\"Is 1 in my_list?\", 1 in my_list)\n",
    "print(\"Isn't 3 in my list?\", 2 not in my_list)\n",
    "print(\"length of my_list:\", len(my_list))"
   ]
  },
  {
   "cell_type": "markdown",
   "metadata": {},
   "source": [
    "The main difference between lists and tuples is **mutability**. Lists are mutable, but tuples are immutable:"
   ]
  },
  {
   "cell_type": "code",
   "execution_count": 72,
   "metadata": {},
   "outputs": [
    {
     "name": "stdout",
     "output_type": "stream",
     "text": [
      "my_list before modification: [1, 2, 3]\n",
      "my_list after modification: ['uno', 2, 3]\n",
      "'tuple' object does not support item assignment\n"
     ]
    }
   ],
   "source": [
    "# Lists are mutable\n",
    "my_list = [1, 2, 3]\n",
    "print(\"my_list before modification:\", my_list)\n",
    "my_list[0] = \"uno\"\n",
    "print(\"my_list after modification:\", my_list)\n",
    "\n",
    "# Tuples are immutable\n",
    "my_tuple = (1, 2, 3)\n",
    "try:\n",
    "    my_tuple[0] = \"uno\"\n",
    "except TypeError as type_error:\n",
    "    print(type_error)"
   ]
  },
  {
   "cell_type": "markdown",
   "metadata": {},
   "source": [
    "If you know that the elements of your sequence will not change, you should use tuples for two reasons:\n",
    "\n",
    " * It expresses your original idea: this sequence is immutable\n",
    " * It will have some performance benefits: Python can optimize if it knows data will not change\n",
    " \n",
    "**Watch out!** Since tuples use the parenthesis as constructor, creating single-element tuples can be sometimes tricky, specially when that single element is a sequence:"
   ]
  },
  {
   "cell_type": "code",
   "execution_count": 73,
   "metadata": {},
   "outputs": [
    {
     "name": "stdout",
     "output_type": "stream",
     "text": [
      "this is a tuple of six single-character strings: ('b', 'a', 'n', 'a', 'n', 'a')\n",
      "this is a tuple with a single element: ('banana',)\n"
     ]
    }
   ],
   "source": [
    "print(\"this is a tuple of six single-character strings:\", tuple(\"banana\"))\n",
    "print(\"this is a tuple with a single element:\", tuple((\"banana\",)))"
   ]
  },
  {
   "cell_type": "markdown",
   "metadata": {},
   "source": [
    "### Sequence operations\n",
    "\n",
    "Since lists and tuples behave in the same way, the support the same set of operations, with the exception of the mutability access rules. Some of the common operations are:\n",
    "\n",
    " * **len**: retrieve length of the sequence\n",
    " * **in**: check if an element is part of the sequence\n",
    " * **index**: know the position of an element in the sequence\n",
    " * **+**: concatenation of sequences\n",
    " * **S\\*N**: concatenation of the sequence _S_ to itself _N_ times"
   ]
  },
  {
   "cell_type": "markdown",
   "metadata": {},
   "source": [
    "### Sequence slicing\n",
    "\n",
    "As previously mentioned, sequences are accessible by index. We can use it to retrieve an element of the string using either positive or negative indices:"
   ]
  },
  {
   "cell_type": "code",
   "execution_count": 74,
   "metadata": {},
   "outputs": [
    {
     "name": "stdout",
     "output_type": "stream",
     "text": [
      "one\n",
      "5\n",
      "one\n",
      "5\n"
     ]
    }
   ],
   "source": [
    "my_list = [\"one\", 2, \"three\", [\"nested_four\"], 5]\n",
    "# Accessing by positive index: 0 to (len-1)\n",
    "print(my_list[0])\n",
    "print(my_list[4])\n",
    "# Accessing by negative index: (-len) to -1\n",
    "print(my_list[-5])\n",
    "print(my_list[-1])"
   ]
  },
  {
   "cell_type": "markdown",
   "metadata": {},
   "source": [
    "Python also supports a powerful mechanism to retrieve sub-sequences from a sequence: _slicing_. This works by specifying a range of indices separated by a colon, and Python will retrieve the sequence from the first index, up to (but not including) the second index. Let's see an example:"
   ]
  },
  {
   "cell_type": "code",
   "execution_count": 75,
   "metadata": {},
   "outputs": [
    {
     "name": "stdout",
     "output_type": "stream",
     "text": [
      "my_list is: [0, 1, 2, 3, 4, 5, 6, 7, 8, 9]\n",
      "First five elements of my_list: [0, 1, 2, 3, 4]\n",
      "Last five elements of my_list: [5, 6, 7, 8, 9]\n",
      "First five elements of my_list: [0, 1, 2, 3, 4]\n",
      "Last five elements of my_list: [5, 6, 7, 8, 9]\n",
      "Intermediate six elements: [2, 3, 4, 5, 6, 7, 8]\n",
      "Get the whole list: [0, 1, 2, 3, 4, 5, 6, 7, 8, 9]\n"
     ]
    }
   ],
   "source": [
    "my_list = [0, 1, 2, 3, 4, 5, 6, 7, 8, 9]\n",
    "print(\"my_list is:\", my_list)\n",
    "print(\"First five elements of my_list:\", my_list[0:5])\n",
    "print(\"Last five elements of my_list:\", my_list[5:10])\n",
    "\n",
    "# When working with the first or last elements, we don't need to specify them\n",
    "print(\"First five elements of my_list:\", my_list[:5])\n",
    "print(\"Last five elements of my_list:\", my_list[5:])\n",
    "\n",
    "# We can get arbitrary elements as first/last\n",
    "print(\"Intermediate six elements:\", my_list[-8:9])\n",
    "print(\"Get the whole list:\", my_list[:])"
   ]
  },
  {
   "cell_type": "markdown",
   "metadata": {},
   "source": [
    "Slicing is even more powerful, as it is possible to specify a third paramenter: the _step_. Imagine that we want to get only the even numbers from _my\\_list_:"
   ]
  },
  {
   "cell_type": "code",
   "execution_count": 76,
   "metadata": {},
   "outputs": [
    {
     "name": "stdout",
     "output_type": "stream",
     "text": [
      "my_list is: [0, 1, 2, 3, 4, 5, 6, 7, 8, 9]\n",
      "even numbers: [0, 2, 4, 6, 8]\n",
      "even numbers again: [0, 2, 4, 6, 8]\n",
      "odd numbers in the last half: [5, 7, 9]\n"
     ]
    }
   ],
   "source": [
    "my_list = [0, 1, 2, 3, 4, 5, 6, 7, 8, 9]\n",
    "print(\"my_list is:\", my_list)\n",
    "print(\"even numbers:\", my_list[0:10:2])\n",
    "\n",
    "# If we consider the whole sequence, we can skip the indexes\n",
    "print(\"even numbers again:\", my_list[::2])\n",
    "\n",
    "# No need to always use the whole sequence\n",
    "print(\"odd numbers in the last half:\", my_list[5::2])"
   ]
  },
  {
   "cell_type": "markdown",
   "metadata": {},
   "source": [
    "### Strings are sequences too!\n",
    "\n",
    "Maybe you remember the definition of the _str_ object: _a immutable sequence of Unicode code points_. Strings are just a restricted form of sequence, which only allows one data type as its internal element. Due to its widespread use, they also have a different way of being printed.\n",
    "\n",
    "However, this means that you can use any of the sequence operators with strings:"
   ]
  },
  {
   "cell_type": "code",
   "execution_count": 77,
   "metadata": {},
   "outputs": [
    {
     "name": "stdout",
     "output_type": "stream",
     "text": [
      "ana in banana?: True\n",
      "lenght of banana: 6\n",
      "slicing: bnn\n"
     ]
    }
   ],
   "source": [
    "my_str = \"banana\"\n",
    "print(\"ana in banana?:\", \"ana\" in my_str)\n",
    "print(\"lenght of banana:\", len(my_str))\n",
    "print(\"slicing:\", my_str[::2])"
   ]
  },
  {
   "cell_type": "markdown",
   "metadata": {},
   "source": [
    "### Other sequences\n",
    "\n",
    "There are other sequence types, such as _range_ or _bytes_. For more information check the [Python documentation](https://docs.python.org/3/library/stdtypes.html#sequence-types-list-tuple-range)."
   ]
  },
  {
   "cell_type": "markdown",
   "metadata": {},
   "source": [
    "## Sets and frozensets\n",
    "\n",
    "A set is a **mutable**, **unordered** group of **unique** elements, which means that adding the same element to a set twice will make only one copy of the element be part of the set.\n",
    "\n",
    "Being an unordered collection, sets do not record element position or order of insertion. Accordingly, sets do not support indexing, slicing, or other sequence-like behavior.\n",
    "\n",
    "A frozenset is an **immutable** set, once created, elements cannot be inserted or removed from it."
   ]
  },
  {
   "cell_type": "code",
   "execution_count": 78,
   "metadata": {},
   "outputs": [
    {
     "name": "stdout",
     "output_type": "stream",
     "text": [
      "my_set: {'four', 'one', 'two', 'three'}\n",
      "my_set after adding 'two': {'four', 'one', 'two', 'three'}\n",
      "my_set after adding 'five': {'four', 'one', 'five', 'two', 'three'}\n",
      "'frozenset' object has no attribute 'add'\n"
     ]
    }
   ],
   "source": [
    "my_set = {\"one\", \"two\", \"three\", \"four\", \"one\"}\n",
    "print(\"my_set:\", my_set)\n",
    "my_set.add(\"two\")\n",
    "print(\"my_set after adding 'two':\", my_set)\n",
    "my_set.add(\"five\")\n",
    "print(\"my_set after adding 'five':\", my_set)\n",
    "\n",
    "# Frozenset cannot be changed\n",
    "my_frozenset = frozenset([\"uno\", \"dos\", \"tres\", \"cuatro\", \"uno\"])\n",
    "try:\n",
    "    my_frozenset.add(\"cinco\")\n",
    "except AttributeError as attribute_error:\n",
    "    print(attribute_error)"
   ]
  },
  {
   "cell_type": "markdown",
   "metadata": {},
   "source": [
    "### Hashable elements\n",
    "\n",
    "How do sets know when two elements are the same? An object that is to be inserted into a set must be **[hashable](https://docs.python.org/3/glossary.html#term-hashable)**. Immutable built-in types (int, float, string, tuple, frozenset) are all hashable.\n",
    "\n",
    "As you probably guessed already, to make a set of sets, the inner ones need to be coverted to frozensets."
   ]
  },
  {
   "cell_type": "code",
   "execution_count": 79,
   "metadata": {},
   "outputs": [
    {
     "name": "stdout",
     "output_type": "stream",
     "text": [
      "unhashable type: 'list'\n",
      "{'one', ('tuples', 'are', 'hashable')}\n"
     ]
    }
   ],
   "source": [
    "try:\n",
    "    my_set = {\"one\", [\"a\", \"list\", \"is\", \"not\", \"hashable\"]}\n",
    "except TypeError as type_error:\n",
    "    print(type_error)\n",
    "    \n",
    "my_set = {\"one\", (\"tuples\", \"are\", \"hashable\")}\n",
    "print(my_set)\n"
   ]
  },
  {
   "cell_type": "markdown",
   "metadata": {},
   "source": [
    "### Set operations\n",
    "\n",
    "Sets are quite convenient for [mathematical set operations](https://docs.python.org/3/library/stdtypes.html#set-types-set-frozenset). Here are some of the most relevant ones. Note that they return a new set without modifying the original ones.\n",
    "\n",
    " * **union**: Get the elements present in any of the sets\n",
    " * **intersection**: Get the elements present in both sets\n",
    " * **difference**: Get the elements of one set not present in the other one\n",
    " * **symetric_difference**: Get the elements present in one of the sets, but not in both\n",
    " * **issubset**: Check if the set is contained in other set\n",
    " * **issuperset**: Check if the set contains the other set"
   ]
  },
  {
   "cell_type": "code",
   "execution_count": 80,
   "metadata": {},
   "outputs": [
    {
     "name": "stdout",
     "output_type": "stream",
     "text": [
      "a.union(b): {1, 2, 3, 4, 5, 6, 8}\n",
      "a.intersection(b): {2, 4, 6}\n",
      "a.difference(b): {1, 3, 5}\n",
      "a.symmetric_difference(b): {1, 3, 5, 8}\n",
      "a.issubset(b): False\n",
      "a.issuperset(b): False\n",
      "a.issuperset(b): True\n",
      "a.union(b, c, d): {0, 1, 2, 3, 4, 5, 6, 7, 8, 9}\n"
     ]
    }
   ],
   "source": [
    "a = {1, 2, 3, 4, 5, 6}\n",
    "b = {2, 4, 6, 8}\n",
    "print(\"a.union(b):\", a.union(b))\n",
    "print(\"a.intersection(b):\", a.intersection(b))\n",
    "print(\"a.difference(b):\", a.difference(b))\n",
    "print(\"a.symmetric_difference(b):\", a.symmetric_difference(b))\n",
    "print(\"a.issubset(b):\", a.issubset(b))\n",
    "print(\"a.issuperset(b):\", a.issuperset(b))\n",
    "b.remove(8)\n",
    "print(\"a.issuperset(b):\", a.issuperset(b))\n",
    "\n",
    "# These operations support multiple parameters, and even other types:\n",
    "b.add(8)\n",
    "c = [6, 7, 9]\n",
    "d = tuple((0,))\n",
    "print(\"a.union(b, c, d):\", a.union(b, c, d))"
   ]
  },
  {
   "cell_type": "markdown",
   "metadata": {},
   "source": [
    "## Mapping types: dictionaries\n",
    "\n",
    "A mapping type maps [hashable](https://docs.python.org/3/glossary.html#term-hashable) types to arbitrary objects. These are typically named _key_ and _value_.\n",
    "\n",
    "As the rest of the compund types mentioned here, Python does not restrict the user to a single type over all the dictionary, both keys and values can be of different types. In the same way as sets, as dictionaries do not record element position or order of insertion, and they don't support slicing or sequence-like operations.\n",
    "\n",
    "Dictionaries support a special form of indexing, which instead of an integer uses a _key_."
   ]
  },
  {
   "cell_type": "code",
   "execution_count": 81,
   "metadata": {},
   "outputs": [
    {
     "name": "stdout",
     "output_type": "stream",
     "text": [
      "my_dict: {'four': 4, 1: 'one', 2: 'two', 3: 'three'}\n",
      "my_dict after adding key 'five': {'four': 4, 1: 'one', 2: 'two', 3: 'three', 'five': 5}\n",
      "my_dict[\"four\"]: 4\n",
      "my_dict after removing key 1: {'four': 4, 2: 'two', 3: 'three', 'five': 5}\n"
     ]
    }
   ],
   "source": [
    "my_dict = {1: \"one\", 2: \"two\", 3: \"three\", \"four\": 4}\n",
    "print(\"my_dict:\", my_dict)\n",
    "\n",
    "# To add an element we can just assign it\n",
    "my_dict[\"five\"] = 5\n",
    "print(\"my_dict after adding key 'five':\", my_dict)\n",
    "\n",
    "# Retrieving an element by key\n",
    "print('my_dict[\"four\"]:', my_dict[\"four\"])\n",
    "\n",
    "# Removing an element\n",
    "del my_dict[1]\n",
    "print(\"my_dict after removing key 1:\", my_dict)"
   ]
  },
  {
   "cell_type": "markdown",
   "metadata": {},
   "source": [
    "### Dictionary operations\n",
    "\n",
    "Check [Python documentation](https://docs.python.org/3/library/stdtypes.html#mapping-types-dict) for a complete list of the methods supported by dictionaries. Here are some of the most commmon ones:\n",
    "\n",
    " * **in**: Check if an element is a key in the dictionary\n",
    " * **keys**: Retrieve the list of keys\n",
    " * **values**: Retrieve the list of values\n",
    " * **items**: Retrieve list of key-value tuples\n",
    " * **pop**: Remove a key from the dictionary, and return its value\n",
    " * **clear**: Remome all data from the dictionary\n",
    " * **get**: Retrieve an element from the dictionary, but without raising exceptions\n",
    "\n",
    "As dictionaries do not keep the order, the _keys()_ and _values()_ functions will return unsorted lists. However, they are guaranteed to be mapped between them, that is, the _N_ element of _keys()_ is the key for the _N_ element of _values()_.\n",
    "\n",
    "Access to the map with keys that do not exist will produce _KeyError_ exceptions. They can be easily prevented by means of the _in_ or _get_ functions, depending if we need to retrieve a value or not. The _get_ function can be specified a default value when the item is not found (_None_ by default)."
   ]
  },
  {
   "cell_type": "code",
   "execution_count": 82,
   "metadata": {},
   "outputs": [
    {
     "name": "stdout",
     "output_type": "stream",
     "text": [
      "3 in my_dict? True\n",
      "three in my_dict? False\n",
      "4 in my_dict? False\n",
      "Got KeyError for key: 4\n",
      "accessing with get (no default) - 4: None\n",
      "accessing with get (default = 'four') - 4: four\n"
     ]
    }
   ],
   "source": [
    "my_dict = {1: \"one\", 2: \"two\", 3: \"three\"}\n",
    "print(\"3 in my_dict?\", 3 in my_dict)\n",
    "print(\"three in my_dict?\", \"three\" in my_dict)\n",
    "print(\"4 in my_dict?\", 4 in my_dict)\n",
    "try:\n",
    "    print(\"accessing by key - 4:\", my_dict[4])\n",
    "except KeyError as key_error:\n",
    "    print(\"Got KeyError for key:\", key_error)\n",
    "    \n",
    "print(\"accessing with get (no default) - 4:\", my_dict.get(4))\n",
    "print(\"accessing with get (default = 'four') - 4:\", my_dict.get(4, \"four\"))"
   ]
  },
  {
   "cell_type": "markdown",
   "metadata": {},
   "source": [
    "### Iterating over dictionaries\n",
    "\n",
    "Python supports using more than one iteration variable, which is specially useful when combined with dictionaries:"
   ]
  },
  {
   "cell_type": "code",
   "execution_count": 83,
   "metadata": {},
   "outputs": [
    {
     "name": "stdout",
     "output_type": "stream",
     "text": [
      "key: 1 value: one\n",
      "key: 2 value: two\n",
      "key: 3 value: three\n",
      "key: 4 value: four\n"
     ]
    }
   ],
   "source": [
    "my_dict = {1: \"one\", 2: \"two\", 3: \"three\", 4: \"four\"}\n",
    "for key, value in my_dict.items():\n",
    "    print(\"key:\", key, \"value:\", value)"
   ]
  }
 ],
 "metadata": {
  "kernelspec": {
   "display_name": "Python 3",
   "language": "python",
   "name": "python3"
  },
  "language_info": {
   "codemirror_mode": {
    "name": "ipython",
    "version": 3
   },
   "file_extension": ".py",
   "mimetype": "text/x-python",
   "name": "python",
   "nbconvert_exporter": "python",
   "pygments_lexer": "ipython3",
   "version": "3.5.2"
  }
 },
 "nbformat": 4,
 "nbformat_minor": 2
}
