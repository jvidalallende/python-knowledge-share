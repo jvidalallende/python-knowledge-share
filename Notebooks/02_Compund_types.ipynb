{
 "cells": [
  {
   "cell_type": "markdown",
   "metadata": {},
   "source": [
    "# Python compound types\n",
    "\n",
    "Python also comes with [built-in types](https://docs.python.org/3/library/stdtypes.html) for groups of objects. These are the ones that will be mentioned in this tutorial:\n",
    "\n",
    " * list\n",
    " * tuple\n",
    " * set\n",
    " * dict\n",
    " \n",
    "Any of the above types can hold several other objects, which do not need to be of the same type (e.g. a list can hold an integer on its first position, and a string in the second position). Let's have a deeper look at them:"
   ]
  },
  {
   "cell_type": "markdown",
   "metadata": {},
   "source": [
    "## Sequence types: lists and tuples\n",
    "\n",
    "A sequence is an **ordered group of objects**. As the elements of the list keep the order, they are accessible by index. It is also possible to retrieve the length of the sequence (the number of elements that it contains), as well as checking if elements are present in it."
   ]
  },
  {
   "cell_type": "code",
   "execution_count": 8,
   "metadata": {},
   "outputs": [
    {
     "name": "stdout",
     "output_type": "stream",
     "text": [
      "This is an empty list: [] <class 'list'>\n",
      "This is an empty tuple: () <class 'tuple'>\n",
      "my_list: [1, 2, 3]\n",
      "Is 1 in my_list? True\n",
      "Isn't 3 in my list? False\n",
      "length of my_list: 3\n"
     ]
    }
   ],
   "source": [
    "print(\"This is an empty list:\" , [], type([]))\n",
    "print(\"This is an empty tuple:\", (), type(()))\n",
    "my_list = [1, 2, 3]\n",
    "print(\"my_list:\", my_list)\n",
    "print(\"Is 1 in my_list?\", 1 in my_list)\n",
    "print(\"Isn't 3 in my list?\", 2 not in my_list)\n",
    "print(\"length of my_list:\", len(my_list))"
   ]
  },
  {
   "cell_type": "markdown",
   "metadata": {},
   "source": [
    "The main difference between lists and tuples is **mutability**. Lists are mutable, but tuples are immutable:"
   ]
  },
  {
   "cell_type": "code",
   "execution_count": 10,
   "metadata": {},
   "outputs": [
    {
     "name": "stdout",
     "output_type": "stream",
     "text": [
      "my_list before modification: [1, 2, 3]\n",
      "my_list after modification: ['uno', 2, 3]\n",
      "'tuple' object does not support item assignment\n"
     ]
    }
   ],
   "source": [
    "# Lists are mutable\n",
    "my_list = [1, 2, 3]\n",
    "print(\"my_list before modification:\", my_list)\n",
    "my_list[0] = \"uno\"\n",
    "print(\"my_list after modification:\", my_list)\n",
    "\n",
    "# Tuples are immutable\n",
    "my_tuple = (1, 2, 3)\n",
    "try:\n",
    "    my_tuple[0] = \"uno\"\n",
    "except TypeError as type_error:\n",
    "    print(type_error)"
   ]
  },
  {
   "cell_type": "markdown",
   "metadata": {},
   "source": [
    "If you know that the elements of your sequence will not change, you should use tuples for two reasons:\n",
    "\n",
    " * It expresses your original idea: this sequence is immutable\n",
    " * It will have some performance benefits: Python can optimize if it knows data will not change"
   ]
  },
  {
   "cell_type": "markdown",
   "metadata": {},
   "source": [
    "### Sequence operations\n",
    "\n",
    "Since lists and tuples behave in the same way, the support the same set of operations, with the exception of the mutability access rules. Some of the common operations are:\n",
    "\n",
    " * **len**: retrieve length of the sequence\n",
    " * **in**: check if an element is part of the sequence\n",
    " * **index**: know the position of an element in the sequence\n",
    " * **+**: concatenation of sequences\n",
    " * **S\\*N**: concatenation of the sequence _S_ to itself _N_ times"
   ]
  },
  {
   "cell_type": "markdown",
   "metadata": {},
   "source": [
    "### Sequence slicing\n",
    "\n",
    "As previously mentioned, sequences are accessible by index. We can use it to retrieve an element of the string using either positive or negative indices:"
   ]
  },
  {
   "cell_type": "code",
   "execution_count": 11,
   "metadata": {},
   "outputs": [
    {
     "name": "stdout",
     "output_type": "stream",
     "text": [
      "uno\n",
      "5\n",
      "5\n",
      "uno\n"
     ]
    }
   ],
   "source": [
    "my_list = [\"uno\", 2, \"tres\", [\"nested_four\"], 5]\n",
    "# Accessing by positive index: 0 to (len-1)\n",
    "print(my_list[0])\n",
    "print(my_list[4])\n",
    "# Accessing by negative index: (-len) to -1\n",
    "print(my_list[-5])\n",
    "print(my_list[-1])"
   ]
  },
  {
   "cell_type": "markdown",
   "metadata": {},
   "source": [
    "Python also supports a powerful mechanism to retrieve sub-sequences from a sequence: _slicing_. This works by specifying a range of indices separated by a colon, and Python will retrieve the sequence from the first index, up to (but not including) the second index. Let's see an example:"
   ]
  },
  {
   "cell_type": "code",
   "execution_count": 17,
   "metadata": {},
   "outputs": [
    {
     "name": "stdout",
     "output_type": "stream",
     "text": [
      "my_list is: [0, 1, 2, 3, 4, 5, 6, 7, 8, 9]\n",
      "First five elements of my_list: [0, 1, 2, 3, 4, 5]\n",
      "Last five elements of my_list: [6, 7, 8, 9]\n",
      "First five elements of my_list: [0, 1, 2, 3, 4, 5]\n",
      "Last five elements of my_list: [6, 7, 8, 9]\n",
      "Intermediate six elements: [2, 3, 4, 5, 6, 7, 8]\n",
      "Get the whole list: [0, 1, 2, 3, 4, 5, 6, 7, 8, 9]\n"
     ]
    }
   ],
   "source": [
    "my_list = [0, 1, 2, 3, 4, 5, 6, 7, 8, 9]\n",
    "print(\"my_list is:\", my_list)\n",
    "print(\"First five elements of my_list:\", my_list[0:5])\n",
    "print(\"Last five elements of my_list:\", my_list[5:10])\n",
    "\n",
    "# When working with the first or last elements, we don't need to specify them\n",
    "print(\"First five elements of my_list:\", my_list[:5])\n",
    "print(\"Last five elements of my_list:\", my_list[5:])\n",
    "\n",
    "# We can get arbitrary elements as first/last\n",
    "print(\"Intermediate six elements:\", my_list[-8:9])\n",
    "print(\"Get the whole list:\", my_list[:])"
   ]
  },
  {
   "cell_type": "markdown",
   "metadata": {},
   "source": [
    "Slicing is even more powerful, as it is possible to specify a third paramenter: the _step_. Imagine that we want to get only the even numbers from _my\\_list_:"
   ]
  },
  {
   "cell_type": "code",
   "execution_count": 19,
   "metadata": {},
   "outputs": [
    {
     "name": "stdout",
     "output_type": "stream",
     "text": [
      "my_list is: [0, 1, 2, 3, 4, 5, 6, 7, 8, 9]\n",
      "even numbers: [0, 2, 4, 6, 8]\n",
      "even numbers again: [0, 2, 4, 6, 8]\n",
      "odd numbers in the last half: [5, 7, 9]\n"
     ]
    }
   ],
   "source": [
    "my_list = [0, 1, 2, 3, 4, 5, 6, 7, 8, 9]\n",
    "print(\"my_list is:\", my_list)\n",
    "print(\"even numbers:\", my_list[0:10:2])\n",
    "\n",
    "# If we consider the whole sequence, we can skip the indexes\n",
    "print(\"even numbers again:\", my_list[::2])\n",
    "\n",
    "# No need to always use the whole sequence\n",
    "print(\"odd numbers in the last half:\", my_list[5::2])"
   ]
  },
  {
   "cell_type": "markdown",
   "metadata": {},
   "source": [
    "### Strings are sequences too!\n",
    "\n",
    "Maybe you remember the definition of the _str_ object: _a immutable sequence of Unicode code points_. Strings are just a restricted form of sequence, which only allows one data type as its internal element. Due to its widespread use, they also have a different way of being printed.\n",
    "\n",
    "However, this means that you can use any of the sequence operators with strings:"
   ]
  },
  {
   "cell_type": "code",
   "execution_count": 22,
   "metadata": {},
   "outputs": [
    {
     "name": "stdout",
     "output_type": "stream",
     "text": [
      "ana in banana?: True\n",
      "lenght of banana: 6\n",
      "slicing: bnn\n"
     ]
    }
   ],
   "source": [
    "my_str = \"banana\"\n",
    "print(\"ana in banana?:\", \"ana\" in my_str)\n",
    "print(\"lenght of banana:\", len(my_str))\n",
    "print(\"slicing:\", my_str[::2])"
   ]
  },
  {
   "cell_type": "markdown",
   "metadata": {},
   "source": [
    "### Other sequences\n",
    "\n",
    "There are other sequence types, such as _range_ or _bytes_. For more information check the [Python documentation](https://docs.python.org/3/library/stdtypes.html#sequence-types-list-tuple-range)."
   ]
  }
 ],
 "metadata": {
  "kernelspec": {
   "display_name": "Python 3",
   "language": "python",
   "name": "python3"
  },
  "language_info": {
   "codemirror_mode": {
    "name": "ipython",
    "version": 3
   },
   "file_extension": ".py",
   "mimetype": "text/x-python",
   "name": "python",
   "nbconvert_exporter": "python",
   "pygments_lexer": "ipython3",
   "version": "3.5.2"
  }
 },
 "nbformat": 4,
 "nbformat_minor": 2
}
