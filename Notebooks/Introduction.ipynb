{
 "cells": [
  {
   "cell_type": "markdown",
   "metadata": {},
   "source": [
    "# Introduction\n",
    "\n",
    "## Why Python?\n",
    "\n",
    "_Python is powerful... and fast;\n",
    "plays well with others;\n",
    "runs everywhere;\n",
    "is friendly & easy to learn;\n",
    "is Open._\n",
    "\n",
    "[https://www.python.org/about/]\n",
    "\n",
    "The name _**Python**_ was chosen by the language creator, [https://gvanrossum.github.io/](Guido van Rossum), who is a big fan of [https://en.wikipedia.org/wiki/Monty_Python%27s_Flying_Circus](Monty Python's Flying Circus). References to Monty Python and their irreverent humour are frequently found in Python books or tutorials.\n",
    "\n",
    "## Before we start...\n",
    "\n",
    "Python community makes a great effort in having readable and uniform code. This is achieved by sticking to some coding recommendations and principles, which are summarized in the following _Python Enhancement Proposals (PEPs)_:\n",
    "\n",
    " * **PEP8**: [https://www.python.org/dev/peps/pep-0008/](Style Guide for Python Code)\n",
    " * **PEP20**: [https://www.python.org/dev/peps/pep-0020/](The Zen of Python)\n",
    " \n",
    "It is recommended to invest some time reading these PEPs and understanding them.\n",
    "\n",
    "## Python versions\n",
    "\n",
    "There are two stable versions of Python as of January 2018:\n",
    "\n",
    " * **Python2**: Released October 16th, 2000. Current version is 2.7.14 (September 16th, 2017). End of maintenance expected in 2020.\n",
    " * **Python3**: Released December 3rd, 2008. Current version is 3.6.4 (December 19th, 2017).\n",
    "\n",
    "Python3 broke backwards compatibility with Python2, which slowed down its adoption. However, this is the version that will be used in this course. Version agnostic code can be written with small tweaks, which will also be mentioned throughout this course."
   ]
  }
 ],
 "metadata": {
  "kernelspec": {
   "display_name": "Python 3",
   "language": "python",
   "name": "python3"
  },
  "language_info": {
   "codemirror_mode": {
    "name": "ipython",
    "version": 3
   },
   "file_extension": ".py",
   "mimetype": "text/x-python",
   "name": "python",
   "nbconvert_exporter": "python",
   "pygments_lexer": "ipython3",
   "version": "3.5.2"
  }
 },
 "nbformat": 4,
 "nbformat_minor": 2
}
