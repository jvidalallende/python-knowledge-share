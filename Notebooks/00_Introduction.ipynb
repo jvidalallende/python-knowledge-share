{
 "cells": [
  {
   "cell_type": "markdown",
   "metadata": {},
   "source": [
    "# Introduction\n",
    "\n",
    "## What is this course about?\n",
    "\n",
    "This is a _refreshment_ course for people who already knows the basics about programming. We will go quickly through the basics of Python, so a bit of previous exposure to the language would be beneficial. The goal is to get a deeper knowledge of some Python constructs and _pythonisms_ that will make you more proficient when using it.\n",
    "\n",
    "The course will not be a comprehensive guide to Python, it will rather focus on the things that make it special.\n",
    "\n",
    "## Why Python?\n",
    "\n",
    "_Python is powerful... and fast;  \n",
    "plays well with others;  \n",
    "runs everywhere;  \n",
    "is friendly & easy to learn;  \n",
    "is Open._\n",
    "\n",
    "https://www.python.org/about/\n",
    "\n",
    "The name _**Python**_ was chosen by the language creator, [Guido van Rossum](https://gvanrossum.github.io/), who is a big fan of [Monty Python's Flying Circus](https://en.wikipedia.org/wiki/Monty_Python%27s_Flying_Circus). References to Monty Python and their irreverent humour are frequently found in Python books or tutorials.\n",
    "\n",
    "## Before we start...\n",
    "\n",
    "Python community makes a great effort in having readable and uniform code. This is achieved by sticking to some coding recommendations and principles, which are summarized in the following _Python Enhancement Proposals (PEPs)_:\n",
    "\n",
    " * **PEP8**: [Style Guide for Python Code](https://www.python.org/dev/peps/pep-0008/)\n",
    " * **PEP20**: [The Zen of Python](https://www.python.org/dev/peps/pep-0020/)\n",
    " \n",
    "It is recommended to invest some time reading these PEPs and understanding them.\n",
    "\n",
    "## Python versions\n",
    "\n",
    "There are two stable versions of Python as of January 2018:\n",
    "\n",
    " * **Python2**: Released October 16th, 2000. Current version is 2.7.14 (September 16th, 2017). End of maintenance expected in 2020.\n",
    " * **Python3**: Released December 3rd, 2008. Current version is 3.6.4 (December 19th, 2017).\n",
    "\n",
    "Python3 broke backwards compatibility with Python2, which slowed down its adoption. However, this is the version that will be used in this course. Main differences between Python2 and Python3 will be highlighted as they appear in their topics.\n",
    "\n",
    "## More info\n",
    "\n",
    "Python has a comprenhensive documentation in its website: https://docs.python.org/3/index.html"
   ]
  },
  {
   "cell_type": "code",
   "execution_count": null,
   "metadata": {},
   "outputs": [],
   "source": []
  }
 ],
 "metadata": {
  "kernelspec": {
   "display_name": "Python 3",
   "language": "python",
   "name": "python3"
  },
  "language_info": {
   "codemirror_mode": {
    "name": "ipython",
    "version": 3
   },
   "file_extension": ".py",
   "mimetype": "text/x-python",
   "name": "python",
   "nbconvert_exporter": "python",
   "pygments_lexer": "ipython3",
   "version": "3.5.2"
  }
 },
 "nbformat": 4,
 "nbformat_minor": 2
}
