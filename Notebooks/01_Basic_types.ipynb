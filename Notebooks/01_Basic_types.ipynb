{
 "cells": [
  {
   "cell_type": "markdown",
   "metadata": {},
   "source": [
    "# Python basic built-in types\n",
    "\n",
    "Python comes with a lot of [built-in types](https://docs.python.org/3/library/stdtypes.html). For the time being, we will focus on the most common _individual_ ones:\n",
    "\n",
    " * bool\n",
    " * int\n",
    " * float\n",
    " * string"
   ]
  },
  {
   "cell_type": "markdown",
   "metadata": {},
   "source": [
    "## Retrieving the type of an object\n",
    "\n",
    "The type of an object can be checked using the _type()_ function. To check if an object belongs to a specific type, use the _isinstance()_ function."
   ]
  },
  {
   "cell_type": "code",
   "execution_count": 1,
   "metadata": {
    "scrolled": true
   },
   "outputs": [
    {
     "name": "stdout",
     "output_type": "stream",
     "text": [
      "Type of x: <class 'list'>\n",
      "Is x a list? True\n",
      "Is x a string? False\n"
     ]
    }
   ],
   "source": [
    "x = list()\n",
    "print(\"Type of x:\", type(x))\n",
    "print(\"Is x a list?\", isinstance(x, list))\n",
    "print(\"Is x a string?\" , isinstance(x, str))"
   ]
  },
  {
   "cell_type": "markdown",
   "metadata": {},
   "source": [
    "\n",
    "## Truth value testing: bool\n",
    "\n",
    "The _bool_ type can have only two values: _True_ or _False_."
   ]
  },
  {
   "cell_type": "code",
   "execution_count": 2,
   "metadata": {},
   "outputs": [
    {
     "name": "stdout",
     "output_type": "stream",
     "text": [
      "Type of True? <class 'bool'>\n",
      "Type of False? <class 'bool'>\n"
     ]
    }
   ],
   "source": [
    "print(\"Type of True?\", type(True))\n",
    "print(\"Type of False?\", type(False))"
   ]
  },
  {
   "cell_type": "markdown",
   "metadata": {},
   "source": [
    "## Numeric types: int/float\n",
    "\n",
    "Integer numbers have unlimited precision (not limited to 32/64 bits as in other languages). Float numbers are usually represented as C _doubles_ internally, and you can check the machine's internal representation using _sys.float_info_.\n",
    "\n",
    "Float numbers also accept the values _nan_, _-inf_, and _+inf_ for Not a Number, negative infinity, and positive infinity."
   ]
  },
  {
   "cell_type": "code",
   "execution_count": 3,
   "metadata": {
    "scrolled": true
   },
   "outputs": [
    {
     "name": "stdout",
     "output_type": "stream",
     "text": [
      "Type of i? <class 'int'>\n",
      "Type of f? <class 'float'>\n",
      "Type of pos_infinite? <class 'float'>\n",
      "Value of pos_infinite? inf\n"
     ]
    }
   ],
   "source": [
    "i = 123456789012345678901234567890\n",
    "print(\"Type of i?\", type(i))\n",
    "\n",
    "f = 40.0\n",
    "print(\"Type of f?\", type(f))\n",
    "\n",
    "pos_infinite = float(\"+inf\")\n",
    "print(\"Type of pos_infinite?\", type(pos_infinite))\n",
    "print(\"Value of pos_infinite?\", pos_infinite)"
   ]
  },
  {
   "cell_type": "markdown",
   "metadata": {},
   "source": [
    "Python supports mixed arithmetic, and in this case the operand with the \"narrower\" type is widened to that of the other type.\n",
    "\n",
    "### Numeric operations\n",
    "\n",
    "The usual operations are available: \n",
    "\n",
    "* sum: a+b\n",
    "* substraction: a-b\n",
    "* multiplication: a\\*b\n",
    "* division: a/b\n",
    "* floored division: a//b\n",
    "* remainder: a%b\n",
    "* power: a\\*\\*b"
   ]
  },
  {
   "cell_type": "code",
   "execution_count": 4,
   "metadata": {},
   "outputs": [
    {
     "name": "stdout",
     "output_type": "stream",
     "text": [
      "4+3: 7\n",
      "4-3: 1\n",
      "4*3: 12\n",
      "4/3: 1.3333333333333333\n",
      "4//3: 1\n",
      "4.0//3.0: 1.0\n",
      "4%3: 1\n",
      "4**3: 64\n"
     ]
    }
   ],
   "source": [
    "print(\"4+3:\", 4+3)\n",
    "print(\"4-3:\", 4-3)\n",
    "print(\"4*3:\", 4*3)\n",
    "print(\"4/3:\", 4/3)\n",
    "print(\"4//3:\", 4//3)\n",
    "# Floored division works with floats too\n",
    "print(\"4.0//3.0:\", 4.0//3.0)\n",
    "print(\"4%3:\", 4%3)\n",
    "print(\"4**3:\", 4**3)"
   ]
  },
  {
   "cell_type": "markdown",
   "metadata": {},
   "source": [
    "**Watch out!** Division works differently in Python2 and Python3. In Python2, if both operands are integers, the result will be integer. However in Python3 result be promoted to float.\n",
    "\n",
    "For further reference on numeric types, see the [numeric types](https://docs.python.org/3/library/stdtypes.html#numeric-types-int-float-complex) documentation. If you need to manipulate numbers, there are a lot of convenient functions in the [math](https://docs.python.org/3/library/math.html) module."
   ]
  },
  {
   "cell_type": "markdown",
   "metadata": {},
   "source": [
    "## Text sequence: str\n",
    "\n",
    "Textual data in Python is handled with _str_ objects, or _strings_. These are immutable sequences of Unicode code points.\n",
    "\n",
    "There are several ways to write a string:"
   ]
  },
  {
   "cell_type": "code",
   "execution_count": 5,
   "metadata": {},
   "outputs": [
    {
     "name": "stdout",
     "output_type": "stream",
     "text": [
      "This is a string\n",
      "This is a string as well\n",
      "And this is also a string\n",
      "This too!\n"
     ]
    }
   ],
   "source": [
    "print('This is a string')\n",
    "print(\"This is a string as well\")\n",
    "print('''And this is also a string''')\n",
    "print(\"\"\"This too!\"\"\")"
   ]
  },
  {
   "cell_type": "markdown",
   "metadata": {},
   "source": [
    "Triple-quoted strings may span along multiple lines, and all associated whitespaces will be included in the string literal."
   ]
  },
  {
   "cell_type": "code",
   "execution_count": 6,
   "metadata": {},
   "outputs": [
    {
     "name": "stdout",
     "output_type": "stream",
     "text": [
      "This is a multiline string\n",
      "that spans over several lines\n",
      "\n",
      "    see how whitespaces are preserved!\n",
      "\n"
     ]
    }
   ],
   "source": [
    "s = \"\"\"This is a multiline string\n",
    "that spans over several lines\n",
    "\n",
    "    see how whitespaces are preserved!\n",
    "\"\"\"\n",
    "print(s)"
   ]
  },
  {
   "cell_type": "markdown",
   "metadata": {},
   "source": [
    "String literals that are part of a single expression containing only whitespaces between them will be implicitly coverted to a single string literal."
   ]
  },
  {
   "cell_type": "code",
   "execution_count": 7,
   "metadata": {},
   "outputs": [
    {
     "name": "stdout",
     "output_type": "stream",
     "text": [
      "Are s1 and s2 equal? True\n"
     ]
    }
   ],
   "source": [
    "s1 = \"spam \" \"eggs\"\n",
    "s2 = \"spam eggs\"\n",
    "print(\"Are s1 and s2 equal?\", s1==s2)"
   ]
  },
  {
   "cell_type": "markdown",
   "metadata": {},
   "source": [
    "**Watch out!** Strings are one of most dramatic changes between Python2 and Python3. In Python2, strings and byte strings are ASCII by default, and they can be forced to be Unicode using the 'u' prefix. In Python3 this is reversed: they are Unicode by default, and can be forced to be treated as bytes with the 'b' prefix. The [Unicode HOWTO](https://docs.python.org/3/howto/unicode.html) in Python's documentation contains more information on this topic."
   ]
  },
  {
   "cell_type": "markdown",
   "metadata": {},
   "source": [
    "Strings are _sequences_, so they can be accessed by index. However, they are **immutable**, that is, they cannot be modified in place. Note that this immutability does not mean that strings cannot be worked with, as new strings can be created and assigned to new (or the same) variables."
   ]
  },
  {
   "cell_type": "code",
   "execution_count": 8,
   "metadata": {},
   "outputs": [
    {
     "name": "stdout",
     "output_type": "stream",
     "text": [
      "a: immutable\n",
      "a[0]: i\n",
      "TypeError: 'str' object does not support item assignment\n",
      "a: immutable\n",
      "a[0]: i\n",
      "b: Immutable\n",
      "b[0]: I\n"
     ]
    }
   ],
   "source": [
    "a = \"immutable\"\n",
    "print(\"a:\", a)\n",
    "print(\"a[0]:\", a[0])\n",
    "try:\n",
    "    a[0] = 'I'\n",
    "except TypeError as type_error:\n",
    "    print(\"TypeError:\", type_error)\n",
    "\n",
    "b = a.capitalize()\n",
    "print(\"a:\", a)\n",
    "print(\"a[0]:\", a[0])\n",
    "print(\"b:\", b)\n",
    "print(\"b[0]:\", b[0])"
   ]
  },
  {
   "cell_type": "markdown",
   "metadata": {},
   "source": [
    "There are several useful [string methods](https://docs.python.org/3/library/stdtypes.html#string-methods) in the standard library. Here are some that are worth highlighting:\n",
    "\n",
    " * **count**: count number of non-overlapping occurrences of substring\n",
    " * **find**: retrieve the index of the first appearance of a substring\n",
    " * **format**: perform string formatting\n",
    " * **strip**: remove characters\n",
    " * **startswith**: check if the beginning of the string matches a substring\n",
    " * **endswith**: check if the end of the string matches a substring\n",
    " * **join**: concatenate strings\n",
    " * **split**: split the string into chunks\n",
    " * **lower**: convert to lowercase\n",
    " * **upper**: convert to uppercase"
   ]
  }
 ],
 "metadata": {
  "kernelspec": {
   "display_name": "Python 3",
   "language": "python",
   "name": "python3"
  },
  "language_info": {
   "codemirror_mode": {
    "name": "ipython",
    "version": 3
   },
   "file_extension": ".py",
   "mimetype": "text/x-python",
   "name": "python",
   "nbconvert_exporter": "python",
   "pygments_lexer": "ipython3",
   "version": "3.5.2"
  }
 },
 "nbformat": 4,
 "nbformat_minor": 2
}
